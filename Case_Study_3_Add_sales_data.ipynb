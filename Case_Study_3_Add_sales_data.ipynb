{
  "nbformat": 4,
  "nbformat_minor": 0,
  "metadata": {
    "colab": {
      "name": "Case Study_3_Add_sales_data",
      "provenance": [],
      "collapsed_sections": []
    },
    "kernelspec": {
      "name": "python3",
      "display_name": "Python 3"
    },
    "language_info": {
      "name": "python"
    }
  },
  "cells": [
    {
      "cell_type": "markdown",
      "metadata": {
        "id": "TwDEVkSs9gu4"
      },
      "source": [
        ""
      ]
    },
    {
      "cell_type": "code",
      "metadata": {
        "id": "Rv7Q3TqYLEz_"
      },
      "source": [
        "# import all libraries required\n",
        "import pandas as pd\n",
        "import numpy as np\n",
        "import matplotlib.pyplot as plt\n",
        "import seaborn as sns\n",
        "from numpy import percentile\n",
        "from scipy import stats"
      ],
      "execution_count": 89,
      "outputs": []
    },
    {
      "cell_type": "code",
      "metadata": {
        "colab": {
          "base_uri": "https://localhost:8080/"
        },
        "id": "HnD5eRDJ6X0t",
        "outputId": "996585df-b917-4840-95ea-5dc8091007de"
      },
      "source": [
        "from google.colab import drive\n",
        "drive.mount('/content/drive')"
      ],
      "execution_count": 90,
      "outputs": [
        {
          "output_type": "stream",
          "name": "stdout",
          "text": [
            "Drive already mounted at /content/drive; to attempt to forcibly remount, call drive.mount(\"/content/drive\", force_remount=True).\n"
          ]
        }
      ]
    },
    {
      "cell_type": "code",
      "metadata": {
        "id": "io_eqgBzWyg-",
        "colab": {
          "base_uri": "https://localhost:8080/",
          "height": 424
        },
        "outputId": "e77e3dad-68e3-466a-f1d6-1569d5cc5d73"
      },
      "source": [
        "#Load the csv files into pandas dataframe\n",
        "Salesdata=pd.read_excel('/content/drive/My Drive/Colab Notebooks/Add_sales_data_2018.xlsx')\n",
        "#Display the dataset\n",
        "Salesdata\n",
        "\n",
        "\n"
      ],
      "execution_count": 91,
      "outputs": [
        {
          "output_type": "execute_result",
          "data": {
            "text/html": [
              "<div>\n",
              "<style scoped>\n",
              "    .dataframe tbody tr th:only-of-type {\n",
              "        vertical-align: middle;\n",
              "    }\n",
              "\n",
              "    .dataframe tbody tr th {\n",
              "        vertical-align: top;\n",
              "    }\n",
              "\n",
              "    .dataframe thead th {\n",
              "        text-align: right;\n",
              "    }\n",
              "</style>\n",
              "<table border=\"1\" class=\"dataframe\">\n",
              "  <thead>\n",
              "    <tr style=\"text-align: right;\">\n",
              "      <th></th>\n",
              "      <th>Date</th>\n",
              "      <th>Add1(in Thousands)</th>\n",
              "      <th>Add2(in Thousands)</th>\n",
              "      <th>Add3(in Thousands)</th>\n",
              "      <th>Add4(in Thousands)</th>\n",
              "      <th>Add5(in Thousands)</th>\n",
              "      <th>Profit(in Thousands)</th>\n",
              "    </tr>\n",
              "  </thead>\n",
              "  <tbody>\n",
              "    <tr>\n",
              "      <th>0</th>\n",
              "      <td>2018-10-08</td>\n",
              "      <td>208.00</td>\n",
              "      <td>222.25</td>\n",
              "      <td>206.85</td>\n",
              "      <td>216.00</td>\n",
              "      <td>215.15</td>\n",
              "      <td>4093.065</td>\n",
              "    </tr>\n",
              "    <tr>\n",
              "      <th>1</th>\n",
              "      <td>2018-10-05</td>\n",
              "      <td>217.00</td>\n",
              "      <td>218.60</td>\n",
              "      <td>205.90</td>\n",
              "      <td>210.25</td>\n",
              "      <td>209.20</td>\n",
              "      <td>4042.448</td>\n",
              "    </tr>\n",
              "    <tr>\n",
              "      <th>2</th>\n",
              "      <td>2018-10-04</td>\n",
              "      <td>223.50</td>\n",
              "      <td>227.80</td>\n",
              "      <td>216.15</td>\n",
              "      <td>217.25</td>\n",
              "      <td>218.20</td>\n",
              "      <td>4213.819</td>\n",
              "    </tr>\n",
              "    <tr>\n",
              "      <th>3</th>\n",
              "      <td>2018-10-03</td>\n",
              "      <td>230.00</td>\n",
              "      <td>237.50</td>\n",
              "      <td>225.75</td>\n",
              "      <td>226.45</td>\n",
              "      <td>227.60</td>\n",
              "      <td>4391.665</td>\n",
              "    </tr>\n",
              "    <tr>\n",
              "      <th>4</th>\n",
              "      <td>2018-10-01</td>\n",
              "      <td>234.55</td>\n",
              "      <td>234.60</td>\n",
              "      <td>221.05</td>\n",
              "      <td>230.30</td>\n",
              "      <td>230.90</td>\n",
              "      <td>4350.683</td>\n",
              "    </tr>\n",
              "    <tr>\n",
              "      <th>...</th>\n",
              "      <td>...</td>\n",
              "      <td>...</td>\n",
              "      <td>...</td>\n",
              "      <td>...</td>\n",
              "      <td>...</td>\n",
              "      <td>...</td>\n",
              "      <td>...</td>\n",
              "    </tr>\n",
              "    <tr>\n",
              "      <th>200</th>\n",
              "      <td>2017-12-14</td>\n",
              "      <td>288.00</td>\n",
              "      <td>288.25</td>\n",
              "      <td>279.20</td>\n",
              "      <td>284.50</td>\n",
              "      <td>284.30</td>\n",
              "      <td>5374.105</td>\n",
              "    </tr>\n",
              "    <tr>\n",
              "      <th>201</th>\n",
              "      <td>2017-12-13</td>\n",
              "      <td>290.00</td>\n",
              "      <td>292.50</td>\n",
              "      <td>282.20</td>\n",
              "      <td>284.80</td>\n",
              "      <td>284.45</td>\n",
              "      <td>5439.655</td>\n",
              "    </tr>\n",
              "    <tr>\n",
              "      <th>202</th>\n",
              "      <td>2017-12-12</td>\n",
              "      <td>298.60</td>\n",
              "      <td>298.60</td>\n",
              "      <td>286.65</td>\n",
              "      <td>287.45</td>\n",
              "      <td>287.80</td>\n",
              "      <td>5545.013</td>\n",
              "    </tr>\n",
              "    <tr>\n",
              "      <th>203</th>\n",
              "      <td>2017-12-11</td>\n",
              "      <td>290.00</td>\n",
              "      <td>299.55</td>\n",
              "      <td>285.90</td>\n",
              "      <td>297.85</td>\n",
              "      <td>298.35</td>\n",
              "      <td>5565.444</td>\n",
              "    </tr>\n",
              "    <tr>\n",
              "      <th>204</th>\n",
              "      <td>2017-12-08</td>\n",
              "      <td>287.55</td>\n",
              "      <td>289.90</td>\n",
              "      <td>285.05</td>\n",
              "      <td>288.05</td>\n",
              "      <td>288.45</td>\n",
              "      <td>5421.842</td>\n",
              "    </tr>\n",
              "  </tbody>\n",
              "</table>\n",
              "<p>205 rows × 7 columns</p>\n",
              "</div>"
            ],
            "text/plain": [
              "          Date  Add1(in Thousands)  ...  Add5(in Thousands)  Profit(in Thousands)\n",
              "0   2018-10-08              208.00  ...              215.15              4093.065\n",
              "1   2018-10-05              217.00  ...              209.20              4042.448\n",
              "2   2018-10-04              223.50  ...              218.20              4213.819\n",
              "3   2018-10-03              230.00  ...              227.60              4391.665\n",
              "4   2018-10-01              234.55  ...              230.90              4350.683\n",
              "..         ...                 ...  ...                 ...                   ...\n",
              "200 2017-12-14              288.00  ...              284.30              5374.105\n",
              "201 2017-12-13              290.00  ...              284.45              5439.655\n",
              "202 2017-12-12              298.60  ...              287.80              5545.013\n",
              "203 2017-12-11              290.00  ...              298.35              5565.444\n",
              "204 2017-12-08              287.55  ...              288.45              5421.842\n",
              "\n",
              "[205 rows x 7 columns]"
            ]
          },
          "metadata": {},
          "execution_count": 91
        }
      ]
    },
    {
      "cell_type": "code",
      "metadata": {
        "colab": {
          "base_uri": "https://localhost:8080/"
        },
        "id": "Q5BOP4TM63Ab",
        "outputId": "fbc87a75-4bde-4a41-c684-01f544b793ff"
      },
      "source": [
        "#Summary of the dataset\n",
        "Salesdata.info()"
      ],
      "execution_count": 92,
      "outputs": [
        {
          "output_type": "stream",
          "name": "stdout",
          "text": [
            "<class 'pandas.core.frame.DataFrame'>\n",
            "RangeIndex: 205 entries, 0 to 204\n",
            "Data columns (total 7 columns):\n",
            " #   Column                Non-Null Count  Dtype         \n",
            "---  ------                --------------  -----         \n",
            " 0   Date                  205 non-null    datetime64[ns]\n",
            " 1   Add1(in Thousands)    205 non-null    float64       \n",
            " 2   Add2(in Thousands)    205 non-null    float64       \n",
            " 3   Add3(in Thousands)    205 non-null    float64       \n",
            " 4   Add4(in Thousands)    205 non-null    float64       \n",
            " 5   Add5(in Thousands)    205 non-null    float64       \n",
            " 6   Profit(in Thousands)  205 non-null    float64       \n",
            "dtypes: datetime64[ns](1), float64(6)\n",
            "memory usage: 11.3 KB\n"
          ]
        }
      ]
    },
    {
      "cell_type": "markdown",
      "source": [
        "**The summary of the dataset shows that there are 205 entries and 7 features(Date,Add1 to Add5 and Profit).**\n"
      ],
      "metadata": {
        "id": "j-meZW7fp-37"
      }
    },
    {
      "cell_type": "code",
      "metadata": {
        "colab": {
          "base_uri": "https://localhost:8080/"
        },
        "id": "yGJla9CZWBiy",
        "outputId": "f1f28e84-5b7b-4fc7-864d-198241ee6926"
      },
      "source": [
        "# Calculating the null values present in each column of the dataset\n",
        "Salesdata.isna().sum() # or StudentsPerformance.isnull().sum() "
      ],
      "execution_count": 93,
      "outputs": [
        {
          "output_type": "execute_result",
          "data": {
            "text/plain": [
              "Date                    0\n",
              "Add1(in Thousands)      0\n",
              "Add2(in Thousands)      0\n",
              "Add3(in Thousands)      0\n",
              "Add4(in Thousands)      0\n",
              "Add5(in Thousands)      0\n",
              "Profit(in Thousands)    0\n",
              "dtype: int64"
            ]
          },
          "metadata": {},
          "execution_count": 93
        }
      ]
    },
    {
      "cell_type": "markdown",
      "metadata": {
        "id": "0zYsG7a2Dty3"
      },
      "source": [
        "**No missing values are present in the dataset**\n",
        "\n",
        "\n"
      ]
    },
    {
      "cell_type": "code",
      "metadata": {
        "colab": {
          "base_uri": "https://localhost:8080/",
          "height": 238
        },
        "id": "HCTygDTTsu_m",
        "outputId": "2572fbad-acc2-4dc1-b4b7-592bcdaabc89"
      },
      "source": [
        "#Statistical description of the given dataset\n",
        "Salesdata.describe().T"
      ],
      "execution_count": 94,
      "outputs": [
        {
          "output_type": "execute_result",
          "data": {
            "text/html": [
              "<div>\n",
              "<style scoped>\n",
              "    .dataframe tbody tr th:only-of-type {\n",
              "        vertical-align: middle;\n",
              "    }\n",
              "\n",
              "    .dataframe tbody tr th {\n",
              "        vertical-align: top;\n",
              "    }\n",
              "\n",
              "    .dataframe thead th {\n",
              "        text-align: right;\n",
              "    }\n",
              "</style>\n",
              "<table border=\"1\" class=\"dataframe\">\n",
              "  <thead>\n",
              "    <tr style=\"text-align: right;\">\n",
              "      <th></th>\n",
              "      <th>count</th>\n",
              "      <th>mean</th>\n",
              "      <th>std</th>\n",
              "      <th>min</th>\n",
              "      <th>25%</th>\n",
              "      <th>50%</th>\n",
              "      <th>75%</th>\n",
              "      <th>max</th>\n",
              "    </tr>\n",
              "  </thead>\n",
              "  <tbody>\n",
              "    <tr>\n",
              "      <th>Add1(in Thousands)</th>\n",
              "      <td>205.0</td>\n",
              "      <td>267.577561</td>\n",
              "      <td>26.219588</td>\n",
              "      <td>208.000</td>\n",
              "      <td>244.000</td>\n",
              "      <td>269.700</td>\n",
              "      <td>284.400</td>\n",
              "      <td>327.70</td>\n",
              "    </tr>\n",
              "    <tr>\n",
              "      <th>Add2(in Thousands)</th>\n",
              "      <td>205.0</td>\n",
              "      <td>271.722439</td>\n",
              "      <td>25.914939</td>\n",
              "      <td>218.600</td>\n",
              "      <td>248.500</td>\n",
              "      <td>274.200</td>\n",
              "      <td>288.800</td>\n",
              "      <td>328.75</td>\n",
              "    </tr>\n",
              "    <tr>\n",
              "      <th>Add3(in Thousands)</th>\n",
              "      <td>205.0</td>\n",
              "      <td>262.990732</td>\n",
              "      <td>26.126704</td>\n",
              "      <td>205.900</td>\n",
              "      <td>240.300</td>\n",
              "      <td>263.250</td>\n",
              "      <td>280.900</td>\n",
              "      <td>321.65</td>\n",
              "    </tr>\n",
              "    <tr>\n",
              "      <th>Add4(in Thousands)</th>\n",
              "      <td>205.0</td>\n",
              "      <td>267.223902</td>\n",
              "      <td>26.238832</td>\n",
              "      <td>210.250</td>\n",
              "      <td>243.050</td>\n",
              "      <td>268.900</td>\n",
              "      <td>284.500</td>\n",
              "      <td>325.95</td>\n",
              "    </tr>\n",
              "    <tr>\n",
              "      <th>Add5(in Thousands)</th>\n",
              "      <td>205.0</td>\n",
              "      <td>267.152683</td>\n",
              "      <td>26.215360</td>\n",
              "      <td>209.200</td>\n",
              "      <td>243.000</td>\n",
              "      <td>268.350</td>\n",
              "      <td>284.450</td>\n",
              "      <td>325.75</td>\n",
              "    </tr>\n",
              "    <tr>\n",
              "      <th>Profit(in Thousands)</th>\n",
              "      <td>205.0</td>\n",
              "      <td>5059.630234</td>\n",
              "      <td>486.910414</td>\n",
              "      <td>4042.448</td>\n",
              "      <td>4617.695</td>\n",
              "      <td>5088.455</td>\n",
              "      <td>5387.438</td>\n",
              "      <td>6137.80</td>\n",
              "    </tr>\n",
              "  </tbody>\n",
              "</table>\n",
              "</div>"
            ],
            "text/plain": [
              "                      count         mean  ...       75%      max\n",
              "Add1(in Thousands)    205.0   267.577561  ...   284.400   327.70\n",
              "Add2(in Thousands)    205.0   271.722439  ...   288.800   328.75\n",
              "Add3(in Thousands)    205.0   262.990732  ...   280.900   321.65\n",
              "Add4(in Thousands)    205.0   267.223902  ...   284.500   325.95\n",
              "Add5(in Thousands)    205.0   267.152683  ...   284.450   325.75\n",
              "Profit(in Thousands)  205.0  5059.630234  ...  5387.438  6137.80\n",
              "\n",
              "[6 rows x 8 columns]"
            ]
          },
          "metadata": {},
          "execution_count": 94
        }
      ]
    },
    {
      "cell_type": "markdown",
      "source": [
        "**This shows the complete statistical summary of the dataset.**"
      ],
      "metadata": {
        "id": "t7_vA72oqvNJ"
      }
    },
    {
      "cell_type": "markdown",
      "source": [
        "\n",
        "**Qn.1 First of all, check whether there is any relationship between the amount spent for advertising through five different companies and profit\n",
        "generated.**"
      ],
      "metadata": {
        "id": "K2dtqAgdrCzR"
      }
    },
    {
      "cell_type": "code",
      "source": [
        "Salesdata.plot(kind='scatter',x='Add1(in Thousands)', y='Profit(in Thousands)')\n",
        "plt.show()"
      ],
      "metadata": {
        "colab": {
          "base_uri": "https://localhost:8080/",
          "height": 279
        },
        "id": "C-HO6qukwNqi",
        "outputId": "566038d5-9b1b-4679-b456-ca7c0a22134d"
      },
      "execution_count": 95,
      "outputs": [
        {
          "output_type": "display_data",
          "data": {
            "image/png": "[encoded data removed]",
            "text/plain": [
              "<Figure size 432x288 with 1 Axes>"
            ]
          },
          "metadata": {
            "needs_background": "light"
          }
        }
      ]
    },
    {
      "cell_type": "code",
      "source": [
        "Salesdata.plot(kind='scatter',x='Add2(in Thousands)', y='Profit(in Thousands)')\n",
        "plt.show()"
      ],
      "metadata": {
        "colab": {
          "base_uri": "https://localhost:8080/",
          "height": 279
        },
        "id": "k_SjWmodwsaj",
        "outputId": "83ff49d0-d9b2-4b00-a2cb-f1d95611f3a2"
      },
      "execution_count": 96,
      "outputs": [
        {
          "output_type": "display_data",
          "data": {
            "image/png": "[encoded data removed]",
            "text/plain": [
              "<Figure size 432x288 with 1 Axes>"
            ]
          },
          "metadata": {
            "needs_background": "light"
          }
        }
      ]
    },
    {
      "cell_type": "code",
      "source": [
        "Salesdata.plot(kind='scatter',x='Add3(in Thousands)', y='Profit(in Thousands)')\n",
        "plt.show()"
      ],
      "metadata": {
        "colab": {
          "base_uri": "https://localhost:8080/",
          "height": 279
        },
        "id": "3wsmDu5MwwYp",
        "outputId": "324c02de-3a07-443c-af5c-93f8b617274c"
      },
      "execution_count": 97,
      "outputs": [
        {
          "output_type": "display_data",
          "data": {
            "image/png": "[encoded data removed]",
            "text/plain": [
              "<Figure size 432x288 with 1 Axes>"
            ]
          },
          "metadata": {
            "needs_background": "light"
          }
        }
      ]
    },
    {
      "cell_type": "code",
      "source": [
        "Salesdata.plot(kind='scatter',x='Add4(in Thousands)', y='Profit(in Thousands)')\n",
        "plt.show()"
      ],
      "metadata": {
        "colab": {
          "base_uri": "https://localhost:8080/",
          "height": 279
        },
        "id": "z6E125mhwzJr",
        "outputId": "33a0502a-ce9b-4d26-aaa4-232a35ebc739"
      },
      "execution_count": 98,
      "outputs": [
        {
          "output_type": "display_data",
          "data": {
            "image/png": "[encoded data removed]",
            "text/plain": [
              "<Figure size 432x288 with 1 Axes>"
            ]
          },
          "metadata": {
            "needs_background": "light"
          }
        }
      ]
    },
    {
      "cell_type": "code",
      "source": [
        "Salesdata.plot(kind='scatter',x='Add5(in Thousands)', y='Profit(in Thousands)')\n",
        "plt.show()"
      ],
      "metadata": {
        "colab": {
          "base_uri": "https://localhost:8080/",
          "height": 279
        },
        "id": "TEFSU6Clw1cp",
        "outputId": "e6544861-cf0c-4c23-e468-44b54d806917"
      },
      "execution_count": 99,
      "outputs": [
        {
          "output_type": "display_data",
          "data": {
            "image/png": "[encoded data removed]",
            "text/plain": [
              "<Figure size 432x288 with 1 Axes>"
            ]
          },
          "metadata": {
            "needs_background": "light"
          }
        }
      ]
    },
    {
      "cell_type": "markdown",
      "source": [
        "**As it is clear from the above plots there is a strong positive correlation between amount spent through five different companies and profit generated and it is high for Add2. The amount spent for all other Adds also possess strong positive correlation. That means As the amount spent for adds increases profit also increases.**"
      ],
      "metadata": {
        "id": "c1MhyjbDxBbg"
      }
    },
    {
      "cell_type": "code",
      "metadata": {
        "colab": {
          "base_uri": "https://localhost:8080/",
          "height": 504
        },
        "id": "Y9GvRhXaHsbV",
        "outputId": "ce32976a-937e-478f-94c4-4dc01f8a2042"
      },
      "source": [
        "Corrmatrix=Salesdata.corr()\n",
        "plt.subplots(figsize=(15,8))\n",
        "sns.heatmap(Corrmatrix,annot=True,linewidth=0.5,cmap='PiYG')"
      ],
      "execution_count": 100,
      "outputs": [
        {
          "output_type": "execute_result",
          "data": {
            "text/plain": [
              "<matplotlib.axes._subplots.AxesSubplot at 0x7f391e0371d0>"
            ]
          },
          "metadata": {},
          "execution_count": 100
        },
        {
          "output_type": "display_data",
          "data": {
            "image/png": "[encoded data removed]",
            "text/plain": [
              "<Figure size 1080x576 with 2 Axes>"
            ]
          },
          "metadata": {
            "needs_background": "light"
          }
        }
      ]
    },
    {
      "cell_type": "markdown",
      "metadata": {
        "id": "SEOhM42P9xmJ"
      },
      "source": [
        "**By observing the correlation heatmap generated, the maximum vale of correlation is 1 and minimum is 0.99,which also indicates very high correlation between variables. The amount spent and the profits obtained is maximum for Add2 indicated by correaltion value of 1. The other adds(1,3,4 and 5) also succeed equally with a correaltion value of 0.99. Altogether, the profit will increase when the amount spent for add increases.**"
      ]
    },
    {
      "cell_type": "markdown",
      "metadata": {
        "id": "4h2S134SAcYM"
      },
      "source": [
        "**Qn.2 Build a regression model to predict the profit from the given data and comment your findings on it**"
      ]
    },
    {
      "cell_type": "code",
      "metadata": {
        "colab": {
          "base_uri": "https://localhost:8080/"
        },
        "id": "DCOH5XDPCe0S",
        "outputId": "1812b583-4848-4859-9074-d89084be3a2b"
      },
      "source": [
        "Salesdata.columns  "
      ],
      "execution_count": 101,
      "outputs": [
        {
          "output_type": "execute_result",
          "data": {
            "text/plain": [
              "Index(['Date', 'Add1(in Thousands)', 'Add2(in Thousands)',\n",
              "       'Add3(in Thousands)', 'Add4(in Thousands)', 'Add5(in Thousands)',\n",
              "       'Profit(in Thousands)'],\n",
              "      dtype='object')"
            ]
          },
          "metadata": {},
          "execution_count": 101
        }
      ]
    },
    {
      "cell_type": "markdown",
      "source": [
        "**Identify the features present in the columns**"
      ],
      "metadata": {
        "id": "_XdhcQt7OoXE"
      }
    },
    {
      "cell_type": "code",
      "metadata": {
        "id": "ngmpHDArC9Gw"
      },
      "source": [
        "y=Salesdata['Profit(in Thousands)']\n",
        "x=Salesdata.drop(['Date','Profit(in Thousands)'],axis=1)"
      ],
      "execution_count": 102,
      "outputs": []
    },
    {
      "cell_type": "markdown",
      "source": [
        "**This is done to split the total dataset into dependent and independent variables.The dependent variable 'profit' is stored as y and independent variables in x omitting less correlated variables using 'drop' function**"
      ],
      "metadata": {
        "id": "GnUV7kFaOuTt"
      }
    },
    {
      "cell_type": "code",
      "metadata": {
        "id": "tSSxmnScEXPv"
      },
      "source": [
        "from sklearn.model_selection import train_test_split\n",
        "x_train,x_test,y_train,y_test=train_test_split(x,y,random_state=42,test_size=0.25)"
      ],
      "execution_count": 103,
      "outputs": []
    },
    {
      "cell_type": "markdown",
      "source": [
        "**Split the data into training and test set which is available in sklearn library**"
      ],
      "metadata": {
        "id": "4L6izl3uRnuU"
      }
    },
    {
      "cell_type": "code",
      "metadata": {
        "colab": {
          "base_uri": "https://localhost:8080/"
        },
        "id": "njMGDvFvE9fn",
        "outputId": "e79de0ac-dcab-4d53-cb7a-bbd0b04d3bda"
      },
      "source": [
        "from sklearn import linear_model\n",
        "lr=linear_model.LinearRegression()\n",
        "model=lr.fit(x_train,y_train)\n",
        "predictions=model.predict(x_test)\n",
        "print(y_test)"
      ],
      "execution_count": 104,
      "outputs": [
        {
          "output_type": "stream",
          "name": "stdout",
          "text": [
            "15     4152.066\n",
            "9      4446.441\n",
            "100    5131.898\n",
            "132    4907.560\n",
            "68     5004.282\n",
            "95     4623.793\n",
            "159    5384.175\n",
            "162    5328.025\n",
            "147    5175.051\n",
            "182    5956.323\n",
            "191    5780.799\n",
            "164    4997.719\n",
            "65     5075.858\n",
            "175    5784.540\n",
            "73     4936.120\n",
            "152    5065.652\n",
            "18     4190.965\n",
            "82     5034.726\n",
            "86     5015.536\n",
            "143    5134.657\n",
            "60     5145.131\n",
            "101    5421.940\n",
            "98     4569.293\n",
            "30     4598.292\n",
            "25     4436.321\n",
            "16     4175.677\n",
            "168    5616.791\n",
            "195    5667.250\n",
            "97     4648.834\n",
            "194    5717.838\n",
            "67     5001.615\n",
            "120    5182.368\n",
            "154    5017.503\n",
            "202    5545.013\n",
            "79     5013.207\n",
            "69     5030.451\n",
            "145    5108.626\n",
            "55     4760.877\n",
            "45     4606.340\n",
            "84     4925.861\n",
            "146    5250.788\n",
            "66     5038.222\n",
            "111    5491.792\n",
            "153    5019.997\n",
            "96     4647.356\n",
            "38     4486.380\n",
            "24     4435.174\n",
            "139    5300.437\n",
            "112    5425.190\n",
            "29     4482.183\n",
            "19     4193.095\n",
            "178    6062.457\n",
            "Name: Profit(in Thousands), dtype: float64\n"
          ]
        }
      ]
    },
    {
      "cell_type": "code",
      "metadata": {
        "colab": {
          "base_uri": "https://localhost:8080/"
        },
        "id": "GiL-6tnmFiCf",
        "outputId": "4df2f274-7ebc-4fd4-b858-eafe9b1be04d"
      },
      "source": [
        "print(predictions)"
      ],
      "execution_count": 105,
      "outputs": [
        {
          "output_type": "stream",
          "name": "stdout",
          "text": [
            "[4152.066 4446.441 5131.898 4907.56  5004.282 4623.793 5384.175 5328.025\n",
            " 5175.051 5956.323 5780.799 4997.719 5075.858 5784.54  4936.12  5065.652\n",
            " 4190.965 5034.726 5015.536 5134.657 5145.131 5421.94  4569.293 4598.292\n",
            " 4436.321 4175.677 5616.791 5667.25  4648.834 5717.838 5001.615 5182.368\n",
            " 5017.503 5545.013 5013.207 5030.451 5108.626 4760.877 4606.34  4925.861\n",
            " 5250.788 5038.222 5491.792 5019.997 4647.356 4486.38  4435.174 5300.437\n",
            " 5425.19  4482.183 4193.095 6062.457]\n"
          ]
        }
      ]
    },
    {
      "cell_type": "markdown",
      "source": [
        "**The actual output and predictions turned same showing very high positive correlation**"
      ],
      "metadata": {
        "id": "YMz6On9JnJS9"
      }
    },
    {
      "cell_type": "code",
      "metadata": {
        "colab": {
          "base_uri": "https://localhost:8080/"
        },
        "id": "OO-d7HDfFn2o",
        "outputId": "c893ec11-3b69-4938-9930-9f2ba57fca32"
      },
      "source": [
        "from sklearn.metrics import mean_squared_error\n",
        "print(\"MSE is\",mean_squared_error(y_test,predictions))"
      ],
      "execution_count": 106,
      "outputs": [
        {
          "output_type": "stream",
          "name": "stdout",
          "text": [
            "MSE is 4.1359030627651384e-25\n"
          ]
        }
      ]
    },
    {
      "cell_type": "markdown",
      "source": [
        "**The mean squarred error os very very low which again indicates strong correlation between amount spent on adds and profot gained**"
      ],
      "metadata": {
        "id": "jG-cnYvenXl6"
      }
    },
    {
      "cell_type": "code",
      "metadata": {
        "colab": {
          "base_uri": "https://localhost:8080/"
        },
        "id": "MKFiVVr7JG6Q",
        "outputId": "f183de04-60d9-494f-c67d-31781ac9c044"
      },
      "source": [
        "model.score(x_test,y_test)"
      ],
      "execution_count": 107,
      "outputs": [
        {
          "output_type": "execute_result",
          "data": {
            "text/plain": [
              "1.0"
            ]
          },
          "metadata": {},
          "execution_count": 107
        }
      ]
    },
    {
      "cell_type": "markdown",
      "source": [
        "**sklearn R-squared value is 1 showing very high correlation**"
      ],
      "metadata": {
        "id": "8Misvxu3nzyz"
      }
    },
    {
      "cell_type": "code",
      "metadata": {
        "colab": {
          "base_uri": "https://localhost:8080/",
          "height": 282
        },
        "id": "P8x4S-ctHEEf",
        "outputId": "6c375bb3-6aef-4358-9ced-3506d80a4c3f"
      },
      "source": [
        "plt.scatter(predictions,y_test) #plot between actual and predicted output"
      ],
      "execution_count": 108,
      "outputs": [
        {
          "output_type": "execute_result",
          "data": {
            "text/plain": [
              "<matplotlib.collections.PathCollection at 0x7f391bdf4d10>"
            ]
          },
          "metadata": {},
          "execution_count": 108
        },
        {
          "output_type": "display_data",
          "data": {
            "image/png": "[encoded data removed]",
            "text/plain": [
              "<Figure size 432x288 with 1 Axes>"
            ]
          },
          "metadata": {
            "needs_background": "light"
          }
        }
      ]
    },
    {
      "cell_type": "markdown",
      "metadata": {
        "id": "Y-n157AakWUv"
      },
      "source": [
        "**As we can see that the mean squarred error is very low and therefore a high \n",
        "correlation exists netween the y-test and predictions with MSE of 4.1359030627651384e-25.**"
      ]
    },
    {
      "cell_type": "markdown",
      "metadata": {
        "id": "wPhnwyQv4L8r"
      },
      "source": [
        "**Qn.3 Predict the profit generated by the company, if they wish to spend the\n",
        "following amount for advertisement :::\n",
        "Add1(in Thousands) 290\n",
        "Add2(in Thousands) 312\n",
        "Add3(in Thousands) 309\n",
        "Add4(in Thousands) 298\n",
        "Add5(in Thousands) 320**"
      ]
    },
    {
      "cell_type": "code",
      "metadata": {
        "colab": {
          "base_uri": "https://localhost:8080/"
        },
        "id": "sgr4cUkPB3cH",
        "outputId": "77698d73-2414-4470-aadc-81b7b81e118c"
      },
      "source": [
        "x_new=[['290','312','309','298','320']]  # Assigning new set of input values to a variable named x_new\n",
        "y_new = model.predict(x_new)             # Predicting the profit generated and assigning the value to another variable y_new\n",
        "print(\"Profit generated by the company is:\",y_new)\n"
      ],
      "execution_count": 109,
      "outputs": [
        {
          "output_type": "stream",
          "name": "stdout",
          "text": [
            "Profit generated by the company is: [5820.06]\n"
          ]
        }
      ]
    },
    {
      "cell_type": "markdown",
      "source": [
        "**The amount predicted for the profit generated is 5820.06 for the given new dataset**"
      ],
      "metadata": {
        "id": "Ky4zQxVKbpN3"
      }
    }
  ]
}